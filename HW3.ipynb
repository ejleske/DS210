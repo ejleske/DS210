{
 "cells": [
  {
   "cell_type": "markdown",
   "id": "05c0804d",
   "metadata": {},
   "source": [
    "# Homework 3\n",
    "\n",
    "\n",
    "I worked with Srushti Karve and used the following websites: \n",
    "\n",
    "* https://numpy.org/doc/stable/reference/random/generated/numpy.random.choice.html\n",
    "* https://pandas.pydata.org/docs/user_guide/merging.html#merge\n",
    "* https://pandas.pydata.org/docs/reference/api/pandas.DataFrame.fillna.html\n",
    "* https://docs.scipy.org/doc/scipy/reference/generated/scipy.optimize.linprog.html\n",
    "* https://www.geeksforgeeks.org/python-program-for-stock-buy-sell-to-maximize-profit/"
   ]
  },
  {
   "cell_type": "markdown",
   "id": "c0e9f721",
   "metadata": {},
   "source": [
    "# Task 1"
   ]
  },
  {
   "cell_type": "code",
   "execution_count": 1,
   "id": "5fd28f6c",
   "metadata": {},
   "outputs": [],
   "source": [
    "import pandas as pd\n",
    "import numpy as np\n",
    "import random"
   ]
  },
  {
   "cell_type": "code",
   "execution_count": 2,
   "id": "e4f24305",
   "metadata": {},
   "outputs": [
    {
     "name": "stdout",
     "output_type": "stream",
     "text": [
      "[0.22292234 0.83101782 0.82571478 0.90736221 0.70653802 0.16873985\n",
      " 0.08924894 0.49343893 0.14276602 0.41336995 0.28039377 0.72746037\n",
      " 0.94344526 0.5157236  0.61172256 0.51472617 0.17197953 0.18463313\n",
      " 0.70530033 0.92749519 0.74495986 0.13493762 0.10249153 0.51738789\n",
      " 0.40222934 0.88746276 0.40312545 0.21584005 0.06733126 0.89600122\n",
      " 0.87985981 0.17472258 0.88137978 0.75392656 0.58970772]\n",
      "[0.88137978 0.70653802 0.89600122 0.40312545 0.08924894 0.88746276\n",
      " 0.14276602 0.28039377 0.17197953 0.18463313 0.16873985 0.13493762\n",
      " 0.82571478 0.06733126 0.94344526]\n"
     ]
    }
   ],
   "source": [
    "#a\n",
    "random_numbers = np.random.rand(35)\n",
    "print(random_numbers)\n",
    "random_numbers_selected = np.random.choice(random_numbers, size = 15, replace= False)\n",
    "print(random_numbers_selected)"
   ]
  },
  {
   "cell_type": "code",
   "execution_count": 3,
   "id": "f6983709",
   "metadata": {},
   "outputs": [
    {
     "name": "stdout",
     "output_type": "stream",
     "text": [
      "<class 'pandas.core.frame.DataFrame'>\n",
      "RangeIndex: 10 entries, 0 to 9\n",
      "Data columns (total 2 columns):\n",
      " #   Column  Non-Null Count  Dtype \n",
      "---  ------  --------------  ----- \n",
      " 0   Names   10 non-null     object\n",
      " 1   MPG     10 non-null     int64 \n",
      "dtypes: int64(1), object(1)\n",
      "memory usage: 292.0+ bytes\n",
      "<class 'pandas.core.frame.DataFrame'>\n",
      "RangeIndex: 10 entries, 0 to 9\n",
      "Data columns (total 2 columns):\n",
      " #   Column       Non-Null Count  Dtype \n",
      "---  ------       --------------  ----- \n",
      " 0   Names        10 non-null     object\n",
      " 1   SecondsTo60  10 non-null     int64 \n",
      "dtypes: int64(1), object(1)\n",
      "memory usage: 292.0+ bytes\n"
     ]
    }
   ],
   "source": [
    "#b\n",
    "car_names = ['A', 'B', 'C', 'D', 'E', 'F', 'G', 'H', 'I', 'J', 'K', 'L', 'M', 'N', 'O', 'P', 'Q', 'R']\n",
    "MPG = np.random.randint(low = 5, high = 50, size= 10).astype(int)\n",
    "random_choice = np.random.choice(car_names, size = 10, replace= False)\n",
    "df1 = pd.DataFrame({\"Names\": random_choice, \"MPG\":MPG})\n",
    "df1.info()\n",
    "\n",
    "# Second data frame using the same car names: \n",
    "SecondsTo60 = np.random.randint(low =1, high= 20, size = 10)\n",
    "random_choice_df2 = np.random.choice(car_names, size = 10, replace=False)\n",
    "df2 = pd.DataFrame({\"Names\": random_choice_df2, \"SecondsTo60\":SecondsTo60})\n",
    "df2.info()"
   ]
  },
  {
   "cell_type": "markdown",
   "id": "eb2353f3",
   "metadata": {},
   "source": [
    "## c\n",
    "merge_data = [df1,df2]\n",
    "df = pd.merge(df1,df2, on=\"Names\", how ='outer')\n",
    "df"
   ]
  },
  {
   "cell_type": "code",
   "execution_count": 5,
   "id": "762d93fc",
   "metadata": {},
   "outputs": [
    {
     "name": "stdout",
     "output_type": "stream",
     "text": [
      "<class 'pandas.core.frame.DataFrame'>\n",
      "RangeIndex: 12 entries, 0 to 11\n",
      "Data columns (total 3 columns):\n",
      " #   Column       Non-Null Count  Dtype  \n",
      "---  ------       --------------  -----  \n",
      " 0   Names        12 non-null     object \n",
      " 1   MPG          10 non-null     float64\n",
      " 2   SecondsTo60  10 non-null     float64\n",
      "dtypes: float64(2), object(1)\n",
      "memory usage: 420.0+ bytes\n"
     ]
    }
   ],
   "source": [
    "df.info()"
   ]
  },
  {
   "cell_type": "code",
   "execution_count": 6,
   "id": "7a2670cf",
   "metadata": {},
   "outputs": [
    {
     "data": {
      "text/html": [
       "<div>\n",
       "<style scoped>\n",
       "    .dataframe tbody tr th:only-of-type {\n",
       "        vertical-align: middle;\n",
       "    }\n",
       "\n",
       "    .dataframe tbody tr th {\n",
       "        vertical-align: top;\n",
       "    }\n",
       "\n",
       "    .dataframe thead th {\n",
       "        text-align: right;\n",
       "    }\n",
       "</style>\n",
       "<table border=\"1\" class=\"dataframe\">\n",
       "  <thead>\n",
       "    <tr style=\"text-align: right;\">\n",
       "      <th></th>\n",
       "      <th>Names</th>\n",
       "      <th>MPG</th>\n",
       "      <th>SecondsTo60</th>\n",
       "    </tr>\n",
       "  </thead>\n",
       "  <tbody>\n",
       "    <tr>\n",
       "      <th>0</th>\n",
       "      <td>O</td>\n",
       "      <td>27.0</td>\n",
       "      <td>18.0</td>\n",
       "    </tr>\n",
       "    <tr>\n",
       "      <th>1</th>\n",
       "      <td>J</td>\n",
       "      <td>36.0</td>\n",
       "      <td>18.0</td>\n",
       "    </tr>\n",
       "    <tr>\n",
       "      <th>2</th>\n",
       "      <td>R</td>\n",
       "      <td>40.0</td>\n",
       "      <td>7.0</td>\n",
       "    </tr>\n",
       "    <tr>\n",
       "      <th>3</th>\n",
       "      <td>D</td>\n",
       "      <td>6.0</td>\n",
       "      <td>6.0</td>\n",
       "    </tr>\n",
       "    <tr>\n",
       "      <th>4</th>\n",
       "      <td>M</td>\n",
       "      <td>14.0</td>\n",
       "      <td>15.0</td>\n",
       "    </tr>\n",
       "    <tr>\n",
       "      <th>5</th>\n",
       "      <td>G</td>\n",
       "      <td>10.0</td>\n",
       "      <td>10.0</td>\n",
       "    </tr>\n",
       "    <tr>\n",
       "      <th>6</th>\n",
       "      <td>C</td>\n",
       "      <td>33.0</td>\n",
       "      <td>18.0</td>\n",
       "    </tr>\n",
       "    <tr>\n",
       "      <th>7</th>\n",
       "      <td>F</td>\n",
       "      <td>28.0</td>\n",
       "      <td>10.0</td>\n",
       "    </tr>\n",
       "    <tr>\n",
       "      <th>8</th>\n",
       "      <td>P</td>\n",
       "      <td>35.0</td>\n",
       "      <td>4.0</td>\n",
       "    </tr>\n",
       "    <tr>\n",
       "      <th>9</th>\n",
       "      <td>I</td>\n",
       "      <td>13.0</td>\n",
       "      <td>3.0</td>\n",
       "    </tr>\n",
       "    <tr>\n",
       "      <th>10</th>\n",
       "      <td>N</td>\n",
       "      <td>24.2</td>\n",
       "      <td>12.0</td>\n",
       "    </tr>\n",
       "    <tr>\n",
       "      <th>11</th>\n",
       "      <td>E</td>\n",
       "      <td>24.2</td>\n",
       "      <td>17.0</td>\n",
       "    </tr>\n",
       "  </tbody>\n",
       "</table>\n",
       "</div>"
      ],
      "text/plain": [
       "   Names   MPG  SecondsTo60\n",
       "0      O  27.0         18.0\n",
       "1      J  36.0         18.0\n",
       "2      R  40.0          7.0\n",
       "3      D   6.0          6.0\n",
       "4      M  14.0         15.0\n",
       "5      G  10.0         10.0\n",
       "6      C  33.0         18.0\n",
       "7      F  28.0         10.0\n",
       "8      P  35.0          4.0\n",
       "9      I  13.0          3.0\n",
       "10     N  24.2         12.0\n",
       "11     E  24.2         17.0"
      ]
     },
     "execution_count": 6,
     "metadata": {},
     "output_type": "execute_result"
    }
   ],
   "source": [
    "# Replace NaN values in the MPG column with the mean\n",
    "df['MPG'].fillna(df['MPG'].mean(), inplace=True)\n",
    "# Replace NaN values in the SecondsTo60 column with the maximum\n",
    "df['SecondsTo60'].fillna( df['SecondsTo60'].max(), inplace=True)\n",
    "df"
   ]
  },
  {
   "cell_type": "code",
   "execution_count": 7,
   "id": "6729304b",
   "metadata": {},
   "outputs": [
    {
     "data": {
      "text/html": [
       "<div>\n",
       "<style scoped>\n",
       "    .dataframe tbody tr th:only-of-type {\n",
       "        vertical-align: middle;\n",
       "    }\n",
       "\n",
       "    .dataframe tbody tr th {\n",
       "        vertical-align: top;\n",
       "    }\n",
       "\n",
       "    .dataframe thead th {\n",
       "        text-align: right;\n",
       "    }\n",
       "</style>\n",
       "<table border=\"1\" class=\"dataframe\">\n",
       "  <thead>\n",
       "    <tr style=\"text-align: right;\">\n",
       "      <th></th>\n",
       "      <th>Names</th>\n",
       "      <th>MPG</th>\n",
       "      <th>SecondsTo60</th>\n",
       "    </tr>\n",
       "  </thead>\n",
       "  <tbody>\n",
       "    <tr>\n",
       "      <th>0</th>\n",
       "      <td>Awesome O</td>\n",
       "      <td>27.0</td>\n",
       "      <td>18.0</td>\n",
       "    </tr>\n",
       "    <tr>\n",
       "      <th>1</th>\n",
       "      <td>Awesome J</td>\n",
       "      <td>36.0</td>\n",
       "      <td>18.0</td>\n",
       "    </tr>\n",
       "    <tr>\n",
       "      <th>2</th>\n",
       "      <td>Awesome R</td>\n",
       "      <td>40.0</td>\n",
       "      <td>7.0</td>\n",
       "    </tr>\n",
       "    <tr>\n",
       "      <th>3</th>\n",
       "      <td>Awesome D</td>\n",
       "      <td>6.0</td>\n",
       "      <td>6.0</td>\n",
       "    </tr>\n",
       "    <tr>\n",
       "      <th>4</th>\n",
       "      <td>Awesome M</td>\n",
       "      <td>14.0</td>\n",
       "      <td>15.0</td>\n",
       "    </tr>\n",
       "    <tr>\n",
       "      <th>5</th>\n",
       "      <td>Awesome G</td>\n",
       "      <td>10.0</td>\n",
       "      <td>10.0</td>\n",
       "    </tr>\n",
       "    <tr>\n",
       "      <th>6</th>\n",
       "      <td>Awesome C</td>\n",
       "      <td>33.0</td>\n",
       "      <td>18.0</td>\n",
       "    </tr>\n",
       "    <tr>\n",
       "      <th>7</th>\n",
       "      <td>Awesome F</td>\n",
       "      <td>28.0</td>\n",
       "      <td>10.0</td>\n",
       "    </tr>\n",
       "    <tr>\n",
       "      <th>8</th>\n",
       "      <td>Awesome P</td>\n",
       "      <td>35.0</td>\n",
       "      <td>4.0</td>\n",
       "    </tr>\n",
       "    <tr>\n",
       "      <th>9</th>\n",
       "      <td>Awesome I</td>\n",
       "      <td>13.0</td>\n",
       "      <td>3.0</td>\n",
       "    </tr>\n",
       "    <tr>\n",
       "      <th>10</th>\n",
       "      <td>Awesome N</td>\n",
       "      <td>24.2</td>\n",
       "      <td>12.0</td>\n",
       "    </tr>\n",
       "    <tr>\n",
       "      <th>11</th>\n",
       "      <td>Awesome E</td>\n",
       "      <td>24.2</td>\n",
       "      <td>17.0</td>\n",
       "    </tr>\n",
       "  </tbody>\n",
       "</table>\n",
       "</div>"
      ],
      "text/plain": [
       "        Names   MPG  SecondsTo60\n",
       "0   Awesome O  27.0         18.0\n",
       "1   Awesome J  36.0         18.0\n",
       "2   Awesome R  40.0          7.0\n",
       "3   Awesome D   6.0          6.0\n",
       "4   Awesome M  14.0         15.0\n",
       "5   Awesome G  10.0         10.0\n",
       "6   Awesome C  33.0         18.0\n",
       "7   Awesome F  28.0         10.0\n",
       "8   Awesome P  35.0          4.0\n",
       "9   Awesome I  13.0          3.0\n",
       "10  Awesome N  24.2         12.0\n",
       "11  Awesome E  24.2         17.0"
      ]
     },
     "execution_count": 7,
     "metadata": {},
     "output_type": "execute_result"
    }
   ],
   "source": [
    "df['Names'] = df['Names'].apply(lambda x: \"Awesome \" + x)\n",
    "df"
   ]
  },
  {
   "cell_type": "code",
   "execution_count": 8,
   "id": "aaa52e15",
   "metadata": {},
   "outputs": [],
   "source": [
    "df_eco = df[df['MPG']> df[\"MPG\"].median()]"
   ]
  },
  {
   "cell_type": "code",
   "execution_count": 9,
   "id": "fe47bc50",
   "metadata": {},
   "outputs": [
    {
     "data": {
      "text/html": [
       "<div>\n",
       "<style scoped>\n",
       "    .dataframe tbody tr th:only-of-type {\n",
       "        vertical-align: middle;\n",
       "    }\n",
       "\n",
       "    .dataframe tbody tr th {\n",
       "        vertical-align: top;\n",
       "    }\n",
       "\n",
       "    .dataframe thead th {\n",
       "        text-align: right;\n",
       "    }\n",
       "</style>\n",
       "<table border=\"1\" class=\"dataframe\">\n",
       "  <thead>\n",
       "    <tr style=\"text-align: right;\">\n",
       "      <th></th>\n",
       "      <th>Names</th>\n",
       "      <th>MPG</th>\n",
       "      <th>SecondsTo60</th>\n",
       "    </tr>\n",
       "  </thead>\n",
       "  <tbody>\n",
       "    <tr>\n",
       "      <th>0</th>\n",
       "      <td>Awesome O</td>\n",
       "      <td>27.0</td>\n",
       "      <td>18.0</td>\n",
       "    </tr>\n",
       "    <tr>\n",
       "      <th>1</th>\n",
       "      <td>Awesome J</td>\n",
       "      <td>36.0</td>\n",
       "      <td>18.0</td>\n",
       "    </tr>\n",
       "    <tr>\n",
       "      <th>2</th>\n",
       "      <td>Awesome R</td>\n",
       "      <td>40.0</td>\n",
       "      <td>7.0</td>\n",
       "    </tr>\n",
       "    <tr>\n",
       "      <th>6</th>\n",
       "      <td>Awesome C</td>\n",
       "      <td>33.0</td>\n",
       "      <td>18.0</td>\n",
       "    </tr>\n",
       "    <tr>\n",
       "      <th>7</th>\n",
       "      <td>Awesome F</td>\n",
       "      <td>28.0</td>\n",
       "      <td>10.0</td>\n",
       "    </tr>\n",
       "    <tr>\n",
       "      <th>8</th>\n",
       "      <td>Awesome P</td>\n",
       "      <td>35.0</td>\n",
       "      <td>4.0</td>\n",
       "    </tr>\n",
       "  </tbody>\n",
       "</table>\n",
       "</div>"
      ],
      "text/plain": [
       "       Names   MPG  SecondsTo60\n",
       "0  Awesome O  27.0         18.0\n",
       "1  Awesome J  36.0         18.0\n",
       "2  Awesome R  40.0          7.0\n",
       "6  Awesome C  33.0         18.0\n",
       "7  Awesome F  28.0         10.0\n",
       "8  Awesome P  35.0          4.0"
      ]
     },
     "execution_count": 9,
     "metadata": {},
     "output_type": "execute_result"
    }
   ],
   "source": [
    "df_eco"
   ]
  },
  {
   "cell_type": "markdown",
   "id": "555c3894",
   "metadata": {},
   "source": [
    "# Task 2"
   ]
  },
  {
   "cell_type": "code",
   "execution_count": 10,
   "id": "66029945",
   "metadata": {},
   "outputs": [
    {
     "name": "stdout",
     "output_type": "stream",
     "text": [
      "   yeast  Flour  Sugar\n",
      "0   57.5  112.5    245\n"
     ]
    }
   ],
   "source": [
    "# uploading the dataset for the ingredients \n",
    "ingredients= pd.read_csv('ingredients.csv', sep=',')\n",
    "print(ingredients)"
   ]
  },
  {
   "cell_type": "code",
   "execution_count": 11,
   "id": "0e24e43a",
   "metadata": {},
   "outputs": [
    {
     "name": "stdout",
     "output_type": "stream",
     "text": [
      "              Name  Price  Yeast  Flour  Sugar\n",
      "0        Apple Pie   2.99   0.00   0.75   1.50\n",
      "1        Croissant   2.50   0.50   1.50   0.25\n",
      "2  Poppy Seed Roll   5.99   1.15   1.50   0.75\n"
     ]
    }
   ],
   "source": [
    "# uploading the dataset for the pastries\n",
    "pastries = pd.read_csv('pastries.csv', sep=',')\n",
    "print(pastries)"
   ]
  },
  {
   "cell_type": "code",
   "execution_count": 19,
   "id": "028f02f7",
   "metadata": {},
   "outputs": [],
   "source": [
    "# Defining the parameters of the linprog function \n",
    "\n",
    "# pastries dataset as an inequity constraint matrix\n",
    "# transpose to get the right dimentions\n",
    "A = np.array(pastries[['Yeast','Flour', 'Sugar']]).T \n",
    "\n",
    "# ingredients dataset implemented as an inequality constraint vector \n",
    "B = np.array(ingredients)\n",
    "\n",
    "# defining what we are trying to minimize/ maximize\n",
    "C = - np.array(pastries['Price']).reshape(-1,1)\n",
    "\n",
    "# setting the bounds using the length of the function that is being maximized\n",
    "x_bounds =  [(0, None)] * len(C)"
   ]
  },
  {
   "cell_type": "code",
   "execution_count": 20,
   "id": "36ac2234",
   "metadata": {},
   "outputs": [],
   "source": [
    "from scipy.optimize import linprog\n",
    "# finding the maximum price and the optimal quantities using the linprog function \n",
    "max_price = linprog(C, A_ub = A, b_ub = B, bounds = x_bounds)\n",
    "\n",
    "# using built in function in linprog to get the optimal profit and quantities\n",
    "best_profit = - max_price.fun\n",
    "best_quantity = max_price.x"
   ]
  },
  {
   "cell_type": "code",
   "execution_count": 21,
   "id": "80d4ac8f",
   "metadata": {},
   "outputs": [
    {
     "name": "stdout",
     "output_type": "stream",
     "text": [
      "The max profit is 449.0 and can be achieved by producing:\n",
      " Pastry 1: 50.0 pieces\n",
      " Pastry 2: 0.0 pieces\n",
      " Pastry 3: 50.0 pieces\n"
     ]
    }
   ],
   "source": [
    "# returning the optimal quantity of each pastrie and the max profit \n",
    "print(f\"The max profit is {np.round(best_profit,2)} and can be achieved by producing:\")\n",
    "for i, quantity in enumerate(best_quantity):\n",
    "    print(f\" Pastry {i+1}: {np.round(quantity,2)} pieces\")"
   ]
  }
 ],
 "metadata": {
  "kernelspec": {
   "display_name": "Python 3 (ipykernel)",
   "language": "python",
   "name": "python3"
  },
  "language_info": {
   "codemirror_mode": {
    "name": "ipython",
    "version": 3
   },
   "file_extension": ".py",
   "mimetype": "text/x-python",
   "name": "python",
   "nbconvert_exporter": "python",
   "pygments_lexer": "ipython3",
   "version": "3.11.5"
  }
 },
 "nbformat": 4,
 "nbformat_minor": 5
}
