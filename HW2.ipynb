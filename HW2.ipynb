{
 "cells": [
  {
   "cell_type": "markdown",
   "id": "503dc223",
   "metadata": {},
   "source": [
    "# Homework 2\n",
    "\n",
    "In this homework I worked with Rhea Halebeed and Peter Emero \n",
    "\n",
    "and used these websites:\n",
    "https://numpy.org/doc/stable/reference/generated/numpy.square.html\n",
    "https://towardsdatascience.com/silhouette-coefficient-validating-clustering-techniques-e976bb81d10c\n",
    "https://scikit-learn.org/stable/modules/generated/sklearn.metrics.silhouette_score.html\n",
    "https://scikit-learn.org/stable/modules/generated/sklearn.metrics.mean_squared_error.html\n",
    "\n",
    "i also used noted from lecture and previous classes as well as the websited linked in the homework document. "
   ]
  },
  {
   "cell_type": "markdown",
   "id": "9e71de1a",
   "metadata": {},
   "source": [
    "# Task 1"
   ]
  },
  {
   "cell_type": "code",
   "execution_count": 1,
   "id": "1c9602eb",
   "metadata": {},
   "outputs": [
    {
     "data": {
      "text/plain": [
       "array([0.20829544, 0.2854399 , 0.46947353, 0.26816373, 0.16612711,\n",
       "       0.80056843, 0.60068314, 0.13937406, 0.34850308, 0.6584493 ,\n",
       "       0.83476731, 0.43148568, 0.23786557, 0.96475092, 0.63867214,\n",
       "       0.94043408, 0.67174469, 0.71949867, 0.65757849, 0.36263467,\n",
       "       0.99521612, 0.65604502, 0.0972784 , 0.0827581 , 0.25554209,\n",
       "       0.4080857 , 0.69634528, 0.11095125, 0.69473905, 0.37170012,\n",
       "       0.93640271, 0.18789169, 0.94343804, 0.01789937, 0.28081234])"
      ]
     },
     "execution_count": 1,
     "metadata": {},
     "output_type": "execute_result"
    }
   ],
   "source": [
    "# a) get 35 random numbers\n",
    "import numpy as np\n",
    "A = np.random.rand(35)\n",
    "A"
   ]
  },
  {
   "cell_type": "code",
   "execution_count": 2,
   "id": "a44a252b",
   "metadata": {},
   "outputs": [
    {
     "name": "stdout",
     "output_type": "stream",
     "text": [
      "[0.80056843 0.60068314 0.6584493  0.83476731 0.96475092 0.63867214\n",
      " 0.94043408 0.67174469 0.71949867 0.65757849 0.99521612 0.65604502\n",
      " 0.69634528 0.69473905 0.93640271 0.94343804]\n"
     ]
    }
   ],
   "source": [
    "#b) all values >= 0.6\n",
    "b= (A >= 0.6)\n",
    "print(A[b])"
   ]
  },
  {
   "cell_type": "code",
   "execution_count": 3,
   "id": "5a813dc5",
   "metadata": {},
   "outputs": [
    {
     "data": {
      "text/plain": [
       "array([4.33869903e-02, 8.14759366e-02, 2.20405398e-01, 7.19117871e-02,\n",
       "       2.75982173e-02, 6.40909817e-01, 3.60820236e-01, 1.94251273e-02,\n",
       "       1.21454396e-01, 4.33555481e-01, 6.96836460e-01, 1.86179889e-01,\n",
       "       5.65800287e-02, 9.30744339e-01, 4.07902100e-01, 8.84416254e-01,\n",
       "       4.51240926e-01, 5.17678338e-01, 4.32409466e-01, 1.31503901e-01,\n",
       "       9.90455130e-01, 4.30395071e-01, 9.46308656e-03, 6.84890295e-03,\n",
       "       6.53017610e-02, 1.66533936e-01, 4.84896744e-01, 1.23101809e-02,\n",
       "       4.82662347e-01, 1.38160978e-01, 8.76850030e-01, 3.53032862e-02,\n",
       "       8.90075336e-01, 3.20387344e-04, 7.88555713e-02])"
      ]
     },
     "execution_count": 3,
     "metadata": {},
     "output_type": "execute_result"
    }
   ],
   "source": [
    "#c) square all values in A\n",
    "A = np.square(A)\n",
    "A"
   ]
  },
  {
   "cell_type": "code",
   "execution_count": 4,
   "id": "4225ae82",
   "metadata": {},
   "outputs": [
    {
     "data": {
      "text/plain": [
       "array([[4.33869903e-02, 8.14759366e-02, 2.20405398e-01, 7.19117871e-02,\n",
       "        2.75982173e-02, 6.40909817e-01, 3.60820236e-01],\n",
       "       [1.94251273e-02, 1.21454396e-01, 4.33555481e-01, 6.96836460e-01,\n",
       "        1.86179889e-01, 5.65800287e-02, 9.30744339e-01],\n",
       "       [4.07902100e-01, 8.84416254e-01, 4.51240926e-01, 5.17678338e-01,\n",
       "        4.32409466e-01, 1.31503901e-01, 9.90455130e-01],\n",
       "       [4.30395071e-01, 9.46308656e-03, 6.84890295e-03, 6.53017610e-02,\n",
       "        1.66533936e-01, 4.84896744e-01, 1.23101809e-02],\n",
       "       [4.82662347e-01, 1.38160978e-01, 8.76850030e-01, 3.53032862e-02,\n",
       "        8.90075336e-01, 3.20387344e-04, 7.88555713e-02]])"
      ]
     },
     "execution_count": 4,
     "metadata": {},
     "output_type": "execute_result"
    }
   ],
   "source": [
    "#d)reshape a to be a 5 by 7 matrix\n",
    "B = A.reshape(5,7)\n",
    "B"
   ]
  },
  {
   "cell_type": "code",
   "execution_count": 5,
   "id": "42022ce0",
   "metadata": {},
   "outputs": [
    {
     "data": {
      "text/plain": [
       "array([0.08147594, 0.18617989, 0.45124093, 0.06530176, 0.13816098])"
      ]
     },
     "execution_count": 5,
     "metadata": {},
     "output_type": "execute_result"
    }
   ],
   "source": [
    "#e) get the medians for the rows\n",
    "e = np.median(B, axis=1)\n",
    "e"
   ]
  },
  {
   "cell_type": "code",
   "execution_count": 6,
   "id": "0fd2bb91",
   "metadata": {},
   "outputs": [
    {
     "data": {
      "text/plain": [
       "array([0.27675433, 0.24699413, 0.39778015, 0.27740633, 0.34055937,\n",
       "       0.26284218, 0.47463709])"
      ]
     },
     "execution_count": 6,
     "metadata": {},
     "output_type": "execute_result"
    }
   ],
   "source": [
    "#f) get the means per column\n",
    "f = np.mean(B, axis=0)\n",
    "f"
   ]
  },
  {
   "cell_type": "code",
   "execution_count": 7,
   "id": "6e08d21c",
   "metadata": {},
   "outputs": [
    {
     "data": {
      "text/plain": [
       "array([[4.33869903e-02, 0.00000000e+00, 2.20405398e-01, 7.19117871e-02,\n",
       "        2.75982173e-02, 6.40909817e-01, 3.60820236e-01],\n",
       "       [1.94251273e-02, 0.00000000e+00, 4.33555481e-01, 6.96836460e-01,\n",
       "        1.86179889e-01, 5.65800287e-02, 9.30744339e-01],\n",
       "       [4.07902100e-01, 0.00000000e+00, 4.51240926e-01, 5.17678338e-01,\n",
       "        4.32409466e-01, 1.31503901e-01, 9.90455130e-01],\n",
       "       [4.30395071e-01, 0.00000000e+00, 6.84890295e-03, 6.53017610e-02,\n",
       "        1.66533936e-01, 4.84896744e-01, 1.23101809e-02],\n",
       "       [4.82662347e-01, 0.00000000e+00, 8.76850030e-01, 3.53032862e-02,\n",
       "        8.90075336e-01, 3.20387344e-04, 7.88555713e-02]])"
      ]
     },
     "execution_count": 7,
     "metadata": {},
     "output_type": "execute_result"
    }
   ],
   "source": [
    "#g) set the second column equal to 0 \n",
    "B[:,1]= 0\n",
    "B"
   ]
  },
  {
   "cell_type": "code",
   "execution_count": 8,
   "id": "788cd15a",
   "metadata": {},
   "outputs": [
    {
     "data": {
      "text/plain": [
       "array([[4.33869903e-02, 0.00000000e+00, 2.20405398e-01, 7.19117871e-02,\n",
       "        2.75982173e-02, 6.40909817e-01, 3.60820236e-01],\n",
       "       [1.00000000e+00, 1.00000000e+00, 1.00000000e+00, 1.00000000e+00,\n",
       "        1.00000000e+00, 1.00000000e+00, 1.00000000e+00],\n",
       "       [1.00000000e+00, 1.00000000e+00, 1.00000000e+00, 1.00000000e+00,\n",
       "        1.00000000e+00, 1.00000000e+00, 1.00000000e+00],\n",
       "       [1.00000000e+00, 1.00000000e+00, 1.00000000e+00, 1.00000000e+00,\n",
       "        1.00000000e+00, 1.00000000e+00, 1.00000000e+00],\n",
       "       [4.82662347e-01, 0.00000000e+00, 8.76850030e-01, 3.53032862e-02,\n",
       "        8.90075336e-01, 3.20387344e-04, 7.88555713e-02]])"
      ]
     },
     "execution_count": 8,
     "metadata": {},
     "output_type": "execute_result"
    }
   ],
   "source": [
    "#h) set row 2-4 =1\n",
    "B[1:4,:]= 1\n",
    "B"
   ]
  },
  {
   "cell_type": "code",
   "execution_count": 9,
   "id": "bcaa8258",
   "metadata": {},
   "outputs": [
    {
     "data": {
      "text/plain": [
       "array([4.33869903e-02, 0.00000000e+00, 2.20405398e-01, 7.19117871e-02,\n",
       "       2.75982173e-02, 6.40909817e-01, 3.60820236e-01, 1.00000000e+00,\n",
       "       1.00000000e+00, 1.00000000e+00, 1.00000000e+00, 1.00000000e+00,\n",
       "       1.00000000e+00, 1.00000000e+00, 1.00000000e+00, 1.00000000e+00,\n",
       "       1.00000000e+00, 1.00000000e+00, 1.00000000e+00, 1.00000000e+00,\n",
       "       1.00000000e+00, 1.00000000e+00, 1.00000000e+00, 1.00000000e+00,\n",
       "       1.00000000e+00, 1.00000000e+00, 1.00000000e+00, 1.00000000e+00,\n",
       "       4.82662347e-01, 0.00000000e+00, 8.76850030e-01, 3.53032862e-02,\n",
       "       8.90075336e-01, 3.20387344e-04, 7.88555713e-02])"
      ]
     },
     "execution_count": 9,
     "metadata": {},
     "output_type": "execute_result"
    }
   ],
   "source": [
    "#i) return a and se what the difference between A and B is. \n",
    "A"
   ]
  },
  {
   "cell_type": "markdown",
   "id": "836833ff",
   "metadata": {},
   "source": [
    "All of the actions done to B modified A because B is a reshaped version of A and therefore they share the same underlying data. "
   ]
  },
  {
   "cell_type": "markdown",
   "id": "4fa3c1fe",
   "metadata": {},
   "source": [
    "#### #j\n",
    "The difference between reshape and resize is that reshape does not motify the original array but rather creates a new array with the desired shape that has the same data as before. On the other hand resize will modify the orifinal array to fit the desired shape. This can lead to data points being droped or the same data point appearing multiple times "
   ]
  },
  {
   "cell_type": "markdown",
   "id": "7ecf39bb",
   "metadata": {},
   "source": [
    "# Task 2"
   ]
  },
  {
   "cell_type": "code",
   "execution_count": 10,
   "id": "38ab558b",
   "metadata": {
    "scrolled": true
   },
   "outputs": [
    {
     "name": "stdout",
     "output_type": "stream",
     "text": [
      "    school sex  age address famsize Pstatus  Medu  Fedu      Mjob      Fjob  \\\n",
      "0       GP   F   18       U     GT3       A     4     4   at_home   teacher   \n",
      "1       GP   F   17       U     GT3       T     1     1   at_home     other   \n",
      "2       GP   F   15       U     LE3       T     1     1   at_home     other   \n",
      "3       GP   F   15       U     GT3       T     4     2    health  services   \n",
      "4       GP   F   16       U     GT3       T     3     3     other     other   \n",
      "..     ...  ..  ...     ...     ...     ...   ...   ...       ...       ...   \n",
      "390     MS   M   20       U     LE3       A     2     2  services  services   \n",
      "391     MS   M   17       U     LE3       T     3     1  services  services   \n",
      "392     MS   M   21       R     GT3       T     1     1     other     other   \n",
      "393     MS   M   18       R     LE3       T     3     2  services     other   \n",
      "394     MS   M   19       U     LE3       T     1     1     other   at_home   \n",
      "\n",
      "     ... famrel freetime  goout  Dalc  Walc health absences  G1  G2  G3  \n",
      "0    ...      4        3      4     1     1      3        6   5   6   6  \n",
      "1    ...      5        3      3     1     1      3        4   5   5   6  \n",
      "2    ...      4        3      2     2     3      3       10   7   8  10  \n",
      "3    ...      3        2      2     1     1      5        2  15  14  15  \n",
      "4    ...      4        3      2     1     2      5        4   6  10  10  \n",
      "..   ...    ...      ...    ...   ...   ...    ...      ...  ..  ..  ..  \n",
      "390  ...      5        5      4     4     5      4       11   9   9   9  \n",
      "391  ...      2        4      5     3     4      2        3  14  16  16  \n",
      "392  ...      5        5      3     3     3      3        3  10   8   7  \n",
      "393  ...      4        4      1     3     4      5        0  11  12  10  \n",
      "394  ...      3        2      3     3     3      5        5   8   9   9  \n",
      "\n",
      "[395 rows x 33 columns]\n"
     ]
    }
   ],
   "source": [
    "# importing the data set. \n",
    "import pandas as pd\n",
    "student_performance = 'student-mat.csv'\n",
    "df= pd.read_csv(student_performance, sep=';')\n",
    "print(df)"
   ]
  },
  {
   "cell_type": "code",
   "execution_count": 11,
   "id": "c16d1508",
   "metadata": {
    "scrolled": true
   },
   "outputs": [
    {
     "name": "stdout",
     "output_type": "stream",
     "text": [
      "<class 'pandas.core.frame.DataFrame'>\n",
      "RangeIndex: 395 entries, 0 to 394\n",
      "Data columns (total 33 columns):\n",
      " #   Column      Non-Null Count  Dtype \n",
      "---  ------      --------------  ----- \n",
      " 0   school      395 non-null    object\n",
      " 1   sex         395 non-null    object\n",
      " 2   age         395 non-null    int64 \n",
      " 3   address     395 non-null    object\n",
      " 4   famsize     395 non-null    object\n",
      " 5   Pstatus     395 non-null    object\n",
      " 6   Medu        395 non-null    int64 \n",
      " 7   Fedu        395 non-null    int64 \n",
      " 8   Mjob        395 non-null    object\n",
      " 9   Fjob        395 non-null    object\n",
      " 10  reason      395 non-null    object\n",
      " 11  guardian    395 non-null    object\n",
      " 12  traveltime  395 non-null    int64 \n",
      " 13  studytime   395 non-null    int64 \n",
      " 14  failures    395 non-null    int64 \n",
      " 15  schoolsup   395 non-null    object\n",
      " 16  famsup      395 non-null    object\n",
      " 17  paid        395 non-null    object\n",
      " 18  activities  395 non-null    object\n",
      " 19  nursery     395 non-null    object\n",
      " 20  higher      395 non-null    object\n",
      " 21  internet    395 non-null    object\n",
      " 22  romantic    395 non-null    object\n",
      " 23  famrel      395 non-null    int64 \n",
      " 24  freetime    395 non-null    int64 \n",
      " 25  goout       395 non-null    int64 \n",
      " 26  Dalc        395 non-null    int64 \n",
      " 27  Walc        395 non-null    int64 \n",
      " 28  health      395 non-null    int64 \n",
      " 29  absences    395 non-null    int64 \n",
      " 30  G1          395 non-null    int64 \n",
      " 31  G2          395 non-null    int64 \n",
      " 32  G3          395 non-null    int64 \n",
      "dtypes: int64(16), object(17)\n",
      "memory usage: 102.0+ KB\n"
     ]
    }
   ],
   "source": [
    "df.info()"
   ]
  },
  {
   "cell_type": "code",
   "execution_count": 12,
   "id": "e34bdf8d",
   "metadata": {
    "scrolled": true
   },
   "outputs": [
    {
     "name": "stdout",
     "output_type": "stream",
     "text": [
      "<class 'pandas.core.frame.DataFrame'>\n",
      "RangeIndex: 395 entries, 0 to 394\n",
      "Data columns (total 9 columns):\n",
      " #   Column      Non-Null Count  Dtype \n",
      "---  ------      --------------  ----- \n",
      " 0   traveltime  395 non-null    int64 \n",
      " 1   studytime   395 non-null    int64 \n",
      " 2   schoolsup   395 non-null    object\n",
      " 3   internet    395 non-null    object\n",
      " 4   absences    395 non-null    int64 \n",
      " 5   famsup      395 non-null    object\n",
      " 6   romantic    395 non-null    object\n",
      " 7   goout       395 non-null    int64 \n",
      " 8   activities  395 non-null    object\n",
      "dtypes: int64(4), object(5)\n",
      "memory usage: 27.9+ KB\n"
     ]
    }
   ],
   "source": [
    "# choosing the data points that will be analyzed\n",
    "data = df[['traveltime', 'studytime', 'schoolsup', 'internet', 'absences','famsup', 'romantic','goout','activities']]\n",
    "data.info()"
   ]
  },
  {
   "cell_type": "code",
   "execution_count": 13,
   "id": "a5f089c4",
   "metadata": {},
   "outputs": [],
   "source": [
    "# setting y = to G3\n",
    "y = df['G3']"
   ]
  },
  {
   "cell_type": "code",
   "execution_count": 14,
   "id": "c0925793",
   "metadata": {
    "scrolled": true
   },
   "outputs": [
    {
     "name": "stdout",
     "output_type": "stream",
     "text": [
      "<class 'pandas.core.frame.DataFrame'>\n",
      "RangeIndex: 395 entries, 0 to 394\n",
      "Data columns (total 9 columns):\n",
      " #   Column      Non-Null Count  Dtype\n",
      "---  ------      --------------  -----\n",
      " 0   traveltime  395 non-null    int64\n",
      " 1   studytime   395 non-null    int64\n",
      " 2   schoolsup   395 non-null    bool \n",
      " 3   internet    395 non-null    bool \n",
      " 4   absences    395 non-null    int64\n",
      " 5   famsup      395 non-null    bool \n",
      " 6   romantic    395 non-null    bool \n",
      " 7   goout       395 non-null    int64\n",
      " 8   activities  395 non-null    bool \n",
      "dtypes: bool(5), int64(4)\n",
      "memory usage: 14.4 KB\n"
     ]
    },
    {
     "name": "stderr",
     "output_type": "stream",
     "text": [
      "/var/folders/36/hc2q1y4n4znfmy4pqw9kdv200000gp/T/ipykernel_92488/2685709583.py:2: SettingWithCopyWarning: \n",
      "A value is trying to be set on a copy of a slice from a DataFrame.\n",
      "Try using .loc[row_indexer,col_indexer] = value instead\n",
      "\n",
      "See the caveats in the documentation: https://pandas.pydata.org/pandas-docs/stable/user_guide/indexing.html#returning-a-view-versus-a-copy\n",
      "  data['schoolsup'] = data['schoolsup'].replace({'yes': True, 'no': False})\n",
      "/var/folders/36/hc2q1y4n4znfmy4pqw9kdv200000gp/T/ipykernel_92488/2685709583.py:3: SettingWithCopyWarning: \n",
      "A value is trying to be set on a copy of a slice from a DataFrame.\n",
      "Try using .loc[row_indexer,col_indexer] = value instead\n",
      "\n",
      "See the caveats in the documentation: https://pandas.pydata.org/pandas-docs/stable/user_guide/indexing.html#returning-a-view-versus-a-copy\n",
      "  data['famsup'] = data['famsup'].replace({'yes': True, 'no': False})\n",
      "/var/folders/36/hc2q1y4n4znfmy4pqw9kdv200000gp/T/ipykernel_92488/2685709583.py:4: SettingWithCopyWarning: \n",
      "A value is trying to be set on a copy of a slice from a DataFrame.\n",
      "Try using .loc[row_indexer,col_indexer] = value instead\n",
      "\n",
      "See the caveats in the documentation: https://pandas.pydata.org/pandas-docs/stable/user_guide/indexing.html#returning-a-view-versus-a-copy\n",
      "  data['activities'] = data['activities'].replace({'yes': True, 'no': False})\n",
      "/var/folders/36/hc2q1y4n4znfmy4pqw9kdv200000gp/T/ipykernel_92488/2685709583.py:5: SettingWithCopyWarning: \n",
      "A value is trying to be set on a copy of a slice from a DataFrame.\n",
      "Try using .loc[row_indexer,col_indexer] = value instead\n",
      "\n",
      "See the caveats in the documentation: https://pandas.pydata.org/pandas-docs/stable/user_guide/indexing.html#returning-a-view-versus-a-copy\n",
      "  data['internet'] = data['internet'].replace({'yes': True, 'no': False})\n",
      "/var/folders/36/hc2q1y4n4znfmy4pqw9kdv200000gp/T/ipykernel_92488/2685709583.py:6: SettingWithCopyWarning: \n",
      "A value is trying to be set on a copy of a slice from a DataFrame.\n",
      "Try using .loc[row_indexer,col_indexer] = value instead\n",
      "\n",
      "See the caveats in the documentation: https://pandas.pydata.org/pandas-docs/stable/user_guide/indexing.html#returning-a-view-versus-a-copy\n",
      "  data['romantic'] = data['romantic'].replace({'yes': True, 'no': False})\n"
     ]
    }
   ],
   "source": [
    "# converting all object data types into booleans\n",
    "data['schoolsup'] = data['schoolsup'].replace({'yes': True, 'no': False})\n",
    "data['famsup'] = data['famsup'].replace({'yes': True, 'no': False})\n",
    "data['activities'] = data['activities'].replace({'yes': True, 'no': False})\n",
    "data['internet'] = data['internet'].replace({'yes': True, 'no': False})\n",
    "data['romantic'] = data['romantic'].replace({'yes': True, 'no': False})\n",
    "data.info()"
   ]
  },
  {
   "cell_type": "code",
   "execution_count": 15,
   "id": "e4fbe786",
   "metadata": {},
   "outputs": [],
   "source": [
    "# scaling the data so each column has the same importance\n",
    "import sklearn.preprocessing as sk\n",
    "min_max = sk.MinMaxScaler(feature_range=(0, 1))\n",
    "min_max1 = min_max.fit_transform(data[['traveltime','studytime', 'absences', 'goout']])"
   ]
  },
  {
   "cell_type": "code",
   "execution_count": 16,
   "id": "40ab104b",
   "metadata": {
    "scrolled": true
   },
   "outputs": [
    {
     "name": "stderr",
     "output_type": "stream",
     "text": [
      "/var/folders/36/hc2q1y4n4znfmy4pqw9kdv200000gp/T/ipykernel_92488/1564301787.py:1: SettingWithCopyWarning: \n",
      "A value is trying to be set on a copy of a slice from a DataFrame.\n",
      "Try using .loc[row_indexer,col_indexer] = value instead\n",
      "\n",
      "See the caveats in the documentation: https://pandas.pydata.org/pandas-docs/stable/user_guide/indexing.html#returning-a-view-versus-a-copy\n",
      "  data[['traveltime','studytime', 'absences', 'goout']]= min_max1\n"
     ]
    },
    {
     "data": {
      "text/html": [
       "<div>\n",
       "<style scoped>\n",
       "    .dataframe tbody tr th:only-of-type {\n",
       "        vertical-align: middle;\n",
       "    }\n",
       "\n",
       "    .dataframe tbody tr th {\n",
       "        vertical-align: top;\n",
       "    }\n",
       "\n",
       "    .dataframe thead th {\n",
       "        text-align: right;\n",
       "    }\n",
       "</style>\n",
       "<table border=\"1\" class=\"dataframe\">\n",
       "  <thead>\n",
       "    <tr style=\"text-align: right;\">\n",
       "      <th></th>\n",
       "      <th>traveltime</th>\n",
       "      <th>studytime</th>\n",
       "      <th>schoolsup</th>\n",
       "      <th>internet</th>\n",
       "      <th>absences</th>\n",
       "      <th>famsup</th>\n",
       "      <th>romantic</th>\n",
       "      <th>goout</th>\n",
       "      <th>activities</th>\n",
       "    </tr>\n",
       "  </thead>\n",
       "  <tbody>\n",
       "    <tr>\n",
       "      <th>0</th>\n",
       "      <td>0.333333</td>\n",
       "      <td>0.333333</td>\n",
       "      <td>True</td>\n",
       "      <td>False</td>\n",
       "      <td>0.080000</td>\n",
       "      <td>False</td>\n",
       "      <td>False</td>\n",
       "      <td>0.75</td>\n",
       "      <td>False</td>\n",
       "    </tr>\n",
       "    <tr>\n",
       "      <th>1</th>\n",
       "      <td>0.000000</td>\n",
       "      <td>0.333333</td>\n",
       "      <td>False</td>\n",
       "      <td>True</td>\n",
       "      <td>0.053333</td>\n",
       "      <td>True</td>\n",
       "      <td>False</td>\n",
       "      <td>0.50</td>\n",
       "      <td>False</td>\n",
       "    </tr>\n",
       "    <tr>\n",
       "      <th>2</th>\n",
       "      <td>0.000000</td>\n",
       "      <td>0.333333</td>\n",
       "      <td>True</td>\n",
       "      <td>True</td>\n",
       "      <td>0.133333</td>\n",
       "      <td>False</td>\n",
       "      <td>False</td>\n",
       "      <td>0.25</td>\n",
       "      <td>False</td>\n",
       "    </tr>\n",
       "    <tr>\n",
       "      <th>3</th>\n",
       "      <td>0.000000</td>\n",
       "      <td>0.666667</td>\n",
       "      <td>False</td>\n",
       "      <td>True</td>\n",
       "      <td>0.026667</td>\n",
       "      <td>True</td>\n",
       "      <td>True</td>\n",
       "      <td>0.25</td>\n",
       "      <td>True</td>\n",
       "    </tr>\n",
       "    <tr>\n",
       "      <th>4</th>\n",
       "      <td>0.000000</td>\n",
       "      <td>0.333333</td>\n",
       "      <td>False</td>\n",
       "      <td>False</td>\n",
       "      <td>0.053333</td>\n",
       "      <td>True</td>\n",
       "      <td>False</td>\n",
       "      <td>0.25</td>\n",
       "      <td>False</td>\n",
       "    </tr>\n",
       "    <tr>\n",
       "      <th>...</th>\n",
       "      <td>...</td>\n",
       "      <td>...</td>\n",
       "      <td>...</td>\n",
       "      <td>...</td>\n",
       "      <td>...</td>\n",
       "      <td>...</td>\n",
       "      <td>...</td>\n",
       "      <td>...</td>\n",
       "      <td>...</td>\n",
       "    </tr>\n",
       "    <tr>\n",
       "      <th>390</th>\n",
       "      <td>0.000000</td>\n",
       "      <td>0.333333</td>\n",
       "      <td>False</td>\n",
       "      <td>False</td>\n",
       "      <td>0.146667</td>\n",
       "      <td>True</td>\n",
       "      <td>False</td>\n",
       "      <td>0.75</td>\n",
       "      <td>False</td>\n",
       "    </tr>\n",
       "    <tr>\n",
       "      <th>391</th>\n",
       "      <td>0.333333</td>\n",
       "      <td>0.000000</td>\n",
       "      <td>False</td>\n",
       "      <td>True</td>\n",
       "      <td>0.040000</td>\n",
       "      <td>False</td>\n",
       "      <td>False</td>\n",
       "      <td>1.00</td>\n",
       "      <td>False</td>\n",
       "    </tr>\n",
       "    <tr>\n",
       "      <th>392</th>\n",
       "      <td>0.000000</td>\n",
       "      <td>0.000000</td>\n",
       "      <td>False</td>\n",
       "      <td>False</td>\n",
       "      <td>0.040000</td>\n",
       "      <td>False</td>\n",
       "      <td>False</td>\n",
       "      <td>0.50</td>\n",
       "      <td>False</td>\n",
       "    </tr>\n",
       "    <tr>\n",
       "      <th>393</th>\n",
       "      <td>0.666667</td>\n",
       "      <td>0.000000</td>\n",
       "      <td>False</td>\n",
       "      <td>True</td>\n",
       "      <td>0.000000</td>\n",
       "      <td>False</td>\n",
       "      <td>False</td>\n",
       "      <td>0.00</td>\n",
       "      <td>False</td>\n",
       "    </tr>\n",
       "    <tr>\n",
       "      <th>394</th>\n",
       "      <td>0.000000</td>\n",
       "      <td>0.000000</td>\n",
       "      <td>False</td>\n",
       "      <td>True</td>\n",
       "      <td>0.066667</td>\n",
       "      <td>False</td>\n",
       "      <td>False</td>\n",
       "      <td>0.50</td>\n",
       "      <td>False</td>\n",
       "    </tr>\n",
       "  </tbody>\n",
       "</table>\n",
       "<p>395 rows × 9 columns</p>\n",
       "</div>"
      ],
      "text/plain": [
       "     traveltime  studytime  schoolsup  internet  absences  famsup  romantic  \\\n",
       "0      0.333333   0.333333       True     False  0.080000   False     False   \n",
       "1      0.000000   0.333333      False      True  0.053333    True     False   \n",
       "2      0.000000   0.333333       True      True  0.133333   False     False   \n",
       "3      0.000000   0.666667      False      True  0.026667    True      True   \n",
       "4      0.000000   0.333333      False     False  0.053333    True     False   \n",
       "..          ...        ...        ...       ...       ...     ...       ...   \n",
       "390    0.000000   0.333333      False     False  0.146667    True     False   \n",
       "391    0.333333   0.000000      False      True  0.040000   False     False   \n",
       "392    0.000000   0.000000      False     False  0.040000   False     False   \n",
       "393    0.666667   0.000000      False      True  0.000000   False     False   \n",
       "394    0.000000   0.000000      False      True  0.066667   False     False   \n",
       "\n",
       "     goout  activities  \n",
       "0     0.75       False  \n",
       "1     0.50       False  \n",
       "2     0.25       False  \n",
       "3     0.25        True  \n",
       "4     0.25       False  \n",
       "..     ...         ...  \n",
       "390   0.75       False  \n",
       "391   1.00       False  \n",
       "392   0.50       False  \n",
       "393   0.00       False  \n",
       "394   0.50       False  \n",
       "\n",
       "[395 rows x 9 columns]"
      ]
     },
     "execution_count": 16,
     "metadata": {},
     "output_type": "execute_result"
    }
   ],
   "source": [
    "data[['traveltime','studytime', 'absences', 'goout']]= min_max1\n",
    "data"
   ]
  },
  {
   "cell_type": "code",
   "execution_count": 17,
   "id": "55ac9297",
   "metadata": {},
   "outputs": [
    {
     "data": {
      "text/plain": [
       "65     15\n",
       "280     8\n",
       "18      5\n",
       "362    10\n",
       "248     5\n",
       "       ..\n",
       "270     9\n",
       "171    16\n",
       "57     15\n",
       "5      15\n",
       "180     8\n",
       "Name: G3, Length: 316, dtype: int64"
      ]
     },
     "execution_count": 17,
     "metadata": {},
     "output_type": "execute_result"
    }
   ],
   "source": [
    "#splitting data into training and test data \n",
    "from sklearn.model_selection import train_test_split\n",
    "X_train, X_test, y_train, y_test = train_test_split(data, y, test_size=0.2)\n",
    "\n",
    "\n",
    "y_train"
   ]
  },
  {
   "cell_type": "code",
   "execution_count": 22,
   "id": "77062e2f",
   "metadata": {},
   "outputs": [],
   "source": [
    "from sklearn.cluster import KMeans\n",
    "import numpy as np\n",
    "from sklearn.metrics import silhouette_score\n",
    "from sklearn.metrics import accuracy_score\n",
    "import matplotlib.pyplot as plt\n",
    "from sklearn.metrics import mean_squared_error\n",
    "#Kmeans algorithm:\n",
    "\n",
    "result3=[]\n",
    "#predicted_values = []\n",
    "x_train_associated = []\n",
    "for k in range(1,20):  \n",
    "    kmeans = KMeans(n_clusters=k, random_state=0, n_init=\"auto\").fit(X_train)\n",
    "    y_pred1 = kmeans.predict(X_train)\n",
    "    \n",
    "    #creating a dataset with the Cluster and the Grades associated with each cluster from train and test data \n",
    "\n",
    "    X_train_clusters = pd.DataFrame({\"Grade\":y_train, \"Cluster\":y_pred1})\n",
    "\n",
    "    X_train_clusters1 = X_train_clusters.groupby(\"Cluster\").mean()\n",
    "    \n",
    "    \n",
    "    # Predicting the Clustes and the associated Grades for the test data. \n",
    "    yPred = kmeans.predict(X_test)\n",
    "    \n",
    "    # Creating a data frame for the predicted values\n",
    "    X_test_cluster = pd.DataFrame({\"Grade\":y_test, \"Cluster\":yPred})\n",
    "    X_test_cluster1 = X_test_cluster.groupby(\"Cluster\").mean()\n",
    "    \n",
    "    \n",
    "    #merging the data sets\n",
    "    clusters = pd.merge(X_train_clusters1,X_test_cluster1, on = \"Cluster\", how = \"outer\")\n",
    "    \n",
    "    # creating a for loop that will iterate through the points and then assin each point the mean grade of\n",
    "    # the assigned cluster. \n",
    "    predicted_grades = []  # List to store predicted grades for test set\n",
    "\n",
    "    for point in X_test:\n",
    "    # Determine the cluster the point gets assigned to \n",
    "    \n",
    "    # Assign the corresponding mean grade of that cluster to the point\n",
    "        mean_grade = X_train_clusters1.loc[yPred, 'Grade']\n",
    "        predicted_grades.append(mean_grade)\n",
    "    \n",
    "        \n",
    "        \n",
    "    error = mean_squared_error(y_test, yPred)\n",
    "    \n",
    "    \n",
    "    #group by for data frames. mean grouping it \n",
    "    result3.append([k, error])\n",
    "\n",
    "\n"
   ]
  },
  {
   "cell_type": "code",
   "execution_count": 23,
   "id": "045815d5",
   "metadata": {
    "scrolled": true
   },
   "outputs": [
    {
     "data": {
      "text/html": [
       "<div>\n",
       "<style scoped>\n",
       "    .dataframe tbody tr th:only-of-type {\n",
       "        vertical-align: middle;\n",
       "    }\n",
       "\n",
       "    .dataframe tbody tr th {\n",
       "        vertical-align: top;\n",
       "    }\n",
       "\n",
       "    .dataframe thead th {\n",
       "        text-align: right;\n",
       "    }\n",
       "</style>\n",
       "<table border=\"1\" class=\"dataframe\">\n",
       "  <thead>\n",
       "    <tr style=\"text-align: right;\">\n",
       "      <th></th>\n",
       "      <th># of Clusters</th>\n",
       "      <th>Accuracy</th>\n",
       "    </tr>\n",
       "  </thead>\n",
       "  <tbody>\n",
       "    <tr>\n",
       "      <th>0</th>\n",
       "      <td>1</td>\n",
       "      <td>118.670886</td>\n",
       "    </tr>\n",
       "    <tr>\n",
       "      <th>1</th>\n",
       "      <td>2</td>\n",
       "      <td>110.962025</td>\n",
       "    </tr>\n",
       "    <tr>\n",
       "      <th>2</th>\n",
       "      <td>3</td>\n",
       "      <td>96.734177</td>\n",
       "    </tr>\n",
       "    <tr>\n",
       "      <th>3</th>\n",
       "      <td>4</td>\n",
       "      <td>96.075949</td>\n",
       "    </tr>\n",
       "    <tr>\n",
       "      <th>4</th>\n",
       "      <td>5</td>\n",
       "      <td>87.569620</td>\n",
       "    </tr>\n",
       "    <tr>\n",
       "      <th>5</th>\n",
       "      <td>6</td>\n",
       "      <td>78.253165</td>\n",
       "    </tr>\n",
       "    <tr>\n",
       "      <th>6</th>\n",
       "      <td>7</td>\n",
       "      <td>76.430380</td>\n",
       "    </tr>\n",
       "    <tr>\n",
       "      <th>7</th>\n",
       "      <td>8</td>\n",
       "      <td>69.797468</td>\n",
       "    </tr>\n",
       "    <tr>\n",
       "      <th>8</th>\n",
       "      <td>9</td>\n",
       "      <td>66.607595</td>\n",
       "    </tr>\n",
       "    <tr>\n",
       "      <th>9</th>\n",
       "      <td>10</td>\n",
       "      <td>62.278481</td>\n",
       "    </tr>\n",
       "    <tr>\n",
       "      <th>10</th>\n",
       "      <td>11</td>\n",
       "      <td>61.139241</td>\n",
       "    </tr>\n",
       "    <tr>\n",
       "      <th>11</th>\n",
       "      <td>12</td>\n",
       "      <td>57.088608</td>\n",
       "    </tr>\n",
       "    <tr>\n",
       "      <th>12</th>\n",
       "      <td>13</td>\n",
       "      <td>58.518987</td>\n",
       "    </tr>\n",
       "    <tr>\n",
       "      <th>13</th>\n",
       "      <td>14</td>\n",
       "      <td>60.708861</td>\n",
       "    </tr>\n",
       "    <tr>\n",
       "      <th>14</th>\n",
       "      <td>15</td>\n",
       "      <td>60.898734</td>\n",
       "    </tr>\n",
       "    <tr>\n",
       "      <th>15</th>\n",
       "      <td>16</td>\n",
       "      <td>61.670886</td>\n",
       "    </tr>\n",
       "    <tr>\n",
       "      <th>16</th>\n",
       "      <td>17</td>\n",
       "      <td>63.139241</td>\n",
       "    </tr>\n",
       "    <tr>\n",
       "      <th>17</th>\n",
       "      <td>18</td>\n",
       "      <td>61.215190</td>\n",
       "    </tr>\n",
       "    <tr>\n",
       "      <th>18</th>\n",
       "      <td>19</td>\n",
       "      <td>61.417722</td>\n",
       "    </tr>\n",
       "  </tbody>\n",
       "</table>\n",
       "</div>"
      ],
      "text/plain": [
       "    # of Clusters    Accuracy\n",
       "0               1  118.670886\n",
       "1               2  110.962025\n",
       "2               3   96.734177\n",
       "3               4   96.075949\n",
       "4               5   87.569620\n",
       "5               6   78.253165\n",
       "6               7   76.430380\n",
       "7               8   69.797468\n",
       "8               9   66.607595\n",
       "9              10   62.278481\n",
       "10             11   61.139241\n",
       "11             12   57.088608\n",
       "12             13   58.518987\n",
       "13             14   60.708861\n",
       "14             15   60.898734\n",
       "15             16   61.670886\n",
       "16             17   63.139241\n",
       "17             18   61.215190\n",
       "18             19   61.417722"
      ]
     },
     "execution_count": 23,
     "metadata": {},
     "output_type": "execute_result"
    }
   ],
   "source": [
    "import pandas as pd\n",
    "results4 = pd.DataFrame(result3, columns=['# of Clusters', \"Accuracy\"])\n",
    "results4"
   ]
  },
  {
   "cell_type": "code",
   "execution_count": null,
   "id": "b30cfedc",
   "metadata": {},
   "outputs": [],
   "source": []
  },
  {
   "cell_type": "code",
   "execution_count": 24,
   "id": "3ae3cf6a",
   "metadata": {
    "scrolled": true
   },
   "outputs": [
    {
     "data": {
      "text/plain": [
       "<matplotlib.collections.PathCollection at 0x140a69510>"
      ]
     },
     "execution_count": 24,
     "metadata": {},
     "output_type": "execute_result"
    },
    {
     "data": {
      "image/png": "[encoded data removed]",
      "text/plain": [
       "<Figure size 640x480 with 1 Axes>"
      ]
     },
     "metadata": {},
     "output_type": "display_data"
    }
   ],
   "source": [
    "import matplotlib.pyplot as plt\n",
    "\n",
    "plt.scatter( results4[\"Accuracy\"],results4[\"# of Clusters\"], marker = \"o\")"
   ]
  },
  {
   "cell_type": "code",
   "execution_count": 21,
   "id": "834d63e3",
   "metadata": {},
   "outputs": [
    {
     "data": {
      "text/plain": [
       "(395,)"
      ]
     },
     "execution_count": 21,
     "metadata": {},
     "output_type": "execute_result"
    }
   ],
   "source": [
    "y.shape"
   ]
  },
  {
   "cell_type": "code",
   "execution_count": null,
   "id": "8bb9991c",
   "metadata": {
    "scrolled": true
   },
   "outputs": [],
   "source": []
  },
  {
   "cell_type": "markdown",
   "id": "c6d3470c",
   "metadata": {},
   "source": [
    "#### f)\n",
    "The accuracy for this model is much higher than the one for the Decision tree. The mean squared error is at the highest about 17 for the decision tree and the lowest is about 70 for the Kmean algorithm. this suggests that it performed much worse than the decision tree did. \n",
    "\n",
    "\n",
    "#### g)\n",
    "\n",
    "I learned that the highest grade in the training data is 20 while the highest grade in the predicted is 15 and the means for the clusters are much lower than that. This suggests that the model did not accuratly predict what cluster the data points belong to or what grade they should get."
   ]
  },
  {
   "cell_type": "code",
   "execution_count": null,
   "id": "817c6280",
   "metadata": {},
   "outputs": [],
   "source": []
  },
  {
   "cell_type": "code",
   "execution_count": null,
   "id": "9ab3e07c",
   "metadata": {},
   "outputs": [],
   "source": []
  }
 ],
 "metadata": {
  "kernelspec": {
   "display_name": "Python 3 (ipykernel)",
   "language": "python",
   "name": "python3"
  },
  "language_info": {
   "codemirror_mode": {
    "name": "ipython",
    "version": 3
   },
   "file_extension": ".py",
   "mimetype": "text/x-python",
   "name": "python",
   "nbconvert_exporter": "python",
   "pygments_lexer": "ipython3",
   "version": "3.11.5"
  }
 },
 "nbformat": 4,
 "nbformat_minor": 5
}
